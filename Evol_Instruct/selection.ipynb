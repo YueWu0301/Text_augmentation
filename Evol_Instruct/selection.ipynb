{
 "cells": [
  {
   "cell_type": "code",
   "execution_count": 1,
   "metadata": {},
   "outputs": [
    {
     "name": "stderr",
     "output_type": "stream",
     "text": [
      "/scratch/Wu/miniconda3/envs/openai/lib/python3.10/site-packages/tqdm/auto.py:21: TqdmWarning: IProgress not found. Please update jupyter and ipywidgets. See https://ipywidgets.readthedocs.io/en/stable/user_install.html\n",
      "  from .autonotebook import tqdm as notebook_tqdm\n"
     ]
    }
   ],
   "source": [
    "# Load model directly\n",
    "from transformers import AutoTokenizer, AutoModelForCausalLM\n",
    "import torch\n",
    "from multiprocessing import Pool, cpu_count\n",
    "import concurrent.futures\n",
    "from tqdm import tqdm  # 导入 tqdm 库\n",
    "import json\n",
    "import os\n",
    "from sentence_transformers import SentenceTransformer, SimilarityFunction\n",
    "\n"
   ]
  },
  {
   "cell_type": "code",
   "execution_count": 2,
   "metadata": {},
   "outputs": [
    {
     "name": "stderr",
     "output_type": "stream",
     "text": [
      "/scratch/Wu/miniconda3/envs/openai/lib/python3.10/site-packages/huggingface_hub/file_download.py:1150: FutureWarning: `resume_download` is deprecated and will be removed in version 1.0.0. Downloads always resume when possible. If you want to force a new download, use `force_download=True`.\n",
      "  warnings.warn(\n",
      "Special tokens have been added in the vocabulary, make sure the associated word embeddings are fine-tuned or trained.\n"
     ]
    },
    {
     "name": "stderr",
     "output_type": "stream",
     "text": [
      "/scratch/Wu/miniconda3/envs/openai/lib/python3.10/site-packages/huggingface_hub/file_download.py:1150: FutureWarning: `resume_download` is deprecated and will be removed in version 1.0.0. Downloads always resume when possible. If you want to force a new download, use `force_download=True`.\n",
      "  warnings.warn(\n"
     ]
    }
   ],
   "source": [
    "tokenizer = AutoTokenizer.from_pretrained(\"Qwen/Qwen2-0.5B\")\n",
    "model = AutoModelForCausalLM.from_pretrained(\"Qwen/Qwen2-0.5B\")"
   ]
  },
  {
   "cell_type": "code",
   "execution_count": null,
   "metadata": {},
   "outputs": [],
   "source": [
    "\n",
    "\n",
    "stride = 512\n",
    "max_length = 512\n",
    "prev_end_loc = 0\n",
    "\n",
    "def getperplexity(sentence):\n",
    "    nlls = []\n",
    "    prev_end_loc = 0\n",
    "    encodings = tokenizer(sentence, return_tensors='pt')\n",
    "    seq_len = encodings.input_ids.size(1)\n",
    "\n",
    "    for begin_loc in range(0, seq_len, stride):\n",
    "        end_loc = min(begin_loc + max_length, seq_len)\n",
    "        trg_len = end_loc - prev_end_loc  # may be different from stride on last loop\n",
    "        input_ids = encodings.input_ids[:, begin_loc:end_loc]\n",
    "        target_ids = input_ids.clone()\n",
    "        target_ids[:, :-trg_len] = -100\n",
    "        with torch.no_grad():\n",
    "            outputs = model(input_ids, labels=target_ids)\n",
    "            neg_log_likelihood = outputs.loss\n",
    "\n",
    "        nlls.append(neg_log_likelihood)\n",
    "\n",
    "        prev_end_loc = end_loc\n",
    "        if end_loc == seq_len:\n",
    "            break\n",
    "    ppl = torch.exp(torch.stack(nlls).mean())\n",
    "sentence = 'sss buka first'\n",
    "print(getperplexity(sentence))"
   ]
  },
  {
   "cell_type": "code",
   "execution_count": null,
   "metadata": {},
   "outputs": [],
   "source": [
    "sentence = 'demo here,我吉三不臣杨点拉录perplexity！'\n",
    "encodings = tokenizer(sentence, return_tensors='pt')\n",
    "stride = 512\n",
    "seq_len = encodings.input_ids.size(1)\n",
    "seq_len\n",
    "max_length = 512\n",
    "prev_end_loc = 0"
   ]
  },
  {
   "cell_type": "code",
   "execution_count": 13,
   "metadata": {},
   "outputs": [],
   "source": [
    "def getp (sentence):\n",
    "    encodings = tokenizer(sentence, return_tensors='pt')\n",
    "    stride = 512\n",
    "    seq_len = encodings.input_ids.size(1)\n",
    "    max_length = 512\n",
    "    prev_end_loc = 0\n",
    "    nlls = []\n",
    "    prev_end_loc = 0\n",
    "    for begin_loc in range(0, seq_len, stride):\n",
    "        end_loc = min(begin_loc + max_length, seq_len)\n",
    "        trg_len = end_loc - prev_end_loc  # may be different from stride on last loop\n",
    "        input_ids = encodings.input_ids[:, begin_loc:end_loc]\n",
    "        target_ids = input_ids.clone()\n",
    "        target_ids[:, :-trg_len] = -100\n",
    "\n",
    "        with torch.no_grad():\n",
    "            outputs = model(input_ids, labels=target_ids)\n",
    "\n",
    "            # loss is calculated using CrossEntropyLoss which averages over valid labels\n",
    "            # N.B. the model only calculates loss over trg_len - 1 labels, because it internally shifts the labels\n",
    "            # to the left by 1.\n",
    "            neg_log_likelihood = outputs.loss\n",
    "\n",
    "        nlls.append(neg_log_likelihood)\n",
    "\n",
    "        prev_end_loc = end_loc\n",
    "        if end_loc == seq_len:\n",
    "            break\n",
    "    ppl = float(torch.exp(torch.stack(nlls).mean()))\n",
    "    print(ppl)\n",
    "    return ppl"
   ]
  },
  {
   "cell_type": "code",
   "execution_count": 14,
   "metadata": {},
   "outputs": [
    {
     "name": "stdout",
     "output_type": "stream",
     "text": [
      "70419.515625\n"
     ]
    },
    {
     "data": {
      "text/plain": [
       "70419.515625"
      ]
     },
     "execution_count": 14,
     "metadata": {},
     "output_type": "execute_result"
    }
   ],
   "source": [
    "sentence = 'test here !!'\n",
    "getp(sentence)"
   ]
  },
  {
   "cell_type": "code",
   "execution_count": 15,
   "metadata": {},
   "outputs": [],
   "source": [
    "with open('result_1/one_1.json', 'r', encoding='utf-8') as f:\n",
    "    data = json.load(f)\n",
    "def process_item(item):\n",
    "    item['sentence_length'] = len(item['evol_prompt'])\n",
    "    item['perplexity'] = getp(item['evol_prompt'])\n",
    "    return item\n",
    "# for item in data:\n",
    "#     item['sentence_length'] = len(item['evol_prompt'])\n",
    "#     item['perplexity'] = getp(item['evol_prompt'])"
   ]
  },
  {
   "cell_type": "code",
   "execution_count": null,
   "metadata": {},
   "outputs": [],
   "source": [
    "with concurrent.futures.ThreadPoolExecutor() as executor:\n",
    "    # 使用 tqdm 包装 data 列表以显示进度条\n",
    "    results = list(tqdm(executor.map(process_item, data), total=len(data)))"
   ]
  },
  {
   "cell_type": "code",
   "execution_count": null,
   "metadata": {},
   "outputs": [],
   "source": [
    "results"
   ]
  },
  {
   "cell_type": "code",
   "execution_count": 17,
   "metadata": {},
   "outputs": [],
   "source": [
    "with open('result_1.json', 'w', encoding='utf-8') as f:\n",
    "    json.dump(results, f, ensure_ascii=False, indent=4)\n"
   ]
  },
  {
   "cell_type": "code",
   "execution_count": 20,
   "metadata": {},
   "outputs": [
    {
     "data": {
      "text/plain": [
       "['one_1.json',\n",
       " 'four_2_2.json',\n",
       " 'four_1_2.json',\n",
       " 'four_2_1.json',\n",
       " 'seven_7_4.json',\n",
       " 'four_1_1.json',\n",
       " 'four_3_2.json',\n",
       " 'four_3_1.json',\n",
       " 'four_4_1.json',\n",
       " 'six_1.json',\n",
       " 'four_2_3.json']"
      ]
     },
     "execution_count": 20,
     "metadata": {},
     "output_type": "execute_result"
    }
   ],
   "source": [
    "# 存储 JSON 文件名的列表\n",
    "folder_path = 'result_1'\n",
    "json_filenames = []\n",
    "\n",
    "# 遍历文件夹中的文件\n",
    "for filename in os.listdir(folder_path):\n",
    "    if filename.endswith('.json'):  # 检查文件扩展名是否为 .json\n",
    "        json_filenames.append(filename)\n",
    "\n",
    "json_filenames"
   ]
  },
  {
   "cell_type": "code",
   "execution_count": 3,
   "metadata": {},
   "outputs": [
    {
     "name": "stderr",
     "output_type": "stream",
     "text": [
      "/scratch/Wu/miniconda3/envs/openai/lib/python3.10/site-packages/huggingface_hub/file_download.py:1150: FutureWarning: `resume_download` is deprecated and will be removed in version 1.0.0. Downloads always resume when possible. If you want to force a new download, use `force_download=True`.\n",
      "  warnings.warn(\n"
     ]
    }
   ],
   "source": [
    "model = SentenceTransformer(\"all-MiniLM-L6-v2\")\n",
    "model.similarity_fn_name = SimilarityFunction.COSINE\n",
    "\n",
    "real_sentence = '优点：爱学习，看书，1000~2000本书，90%都看过。市场，销售财务。看书比较杂，人文。国家形式，全球的形式\\\n",
    "1. 对商业的趋势判断，很感兴趣。\\\n",
    "2. 安静的时候，能量更大。\\\n",
    "----中----\\\n",
    "多把学到应用出来，不能再看书了。要开始读无字书（人）\\\n",
    "卢总前两-三年都是在反腐，我管辖范围内也有出问题的。\\\n",
    "---待提升---\\\n",
    "心理素质：有时候沉不住气\\\n",
    "更喜欢一个人待着\\\n",
    "'\n",
    "real_embedding = model.encode(real_sentence)"
   ]
  },
  {
   "cell_type": "code",
   "execution_count": null,
   "metadata": {},
   "outputs": [],
   "source": [
    "def getsimilarity(sentence):\n",
    "    embedding = model.encode(sentence)\n",
    "    similarities = model.similarity(real_embedding, embedding)\n",
    "    return similarities\n"
   ]
  }
 ],
 "metadata": {
  "kernelspec": {
   "display_name": "openai",
   "language": "python",
   "name": "python3"
  },
  "language_info": {
   "codemirror_mode": {
    "name": "ipython",
    "version": 3
   },
   "file_extension": ".py",
   "mimetype": "text/x-python",
   "name": "python",
   "nbconvert_exporter": "python",
   "pygments_lexer": "ipython3",
   "version": "3.10.14"
  }
 },
 "nbformat": 4,
 "nbformat_minor": 2
}
