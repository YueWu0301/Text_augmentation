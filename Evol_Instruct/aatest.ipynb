{
 "cells": [
  {
   "cell_type": "code",
   "execution_count": 1,
   "metadata": {},
   "outputs": [],
   "source": [
    "import json\n",
    "import pandas as pd\n",
    "import numpy as np\n",
    "import os\n",
    "import shutil\n",
    "from sklearn.preprocessing import MinMaxScaler"
   ]
  },
  {
   "cell_type": "code",
   "execution_count": 8,
   "metadata": {},
   "outputs": [],
   "source": [
    "with open(f'result_1/four_1_1.json', 'r', encoding='utf-8') as f:\n",
    "    data = json.load(f)\n",
    "perplexities = np.array([entry['perplexity'] for entry in data])\n",
    "diversities = np.array([entry['diversity'] for entry in data])\n",
    "scaler = MinMaxScaler()\n",
    "\n",
    "# 对perplexity和diversity分别进行归一化\n",
    "perplexities_normalized = scaler.fit_transform([[p] for p in perplexities])\n",
    "diversities_normalized = scaler.fit_transform([[d] for d in diversities])"
   ]
  },
  {
   "cell_type": "code",
   "execution_count": 10,
   "metadata": {},
   "outputs": [
    {
     "data": {
      "text/plain": [
       "31.34049415588379"
      ]
     },
     "execution_count": 10,
     "metadata": {},
     "output_type": "execute_result"
    }
   ],
   "source": [
    "np.min(perplexities)"
   ]
  },
  {
   "cell_type": "code",
   "execution_count": 9,
   "metadata": {},
   "outputs": [
    {
     "data": {
      "text/plain": [
       "array([[0.6589926 ],\n",
       "       [0.18560228],\n",
       "       [0.        ],\n",
       "       [0.17591755],\n",
       "       [0.82986352],\n",
       "       [0.52000524],\n",
       "       [0.51141223],\n",
       "       [0.36630926],\n",
       "       [0.40721332],\n",
       "       [0.31447487],\n",
       "       [0.46511208],\n",
       "       [0.50530706],\n",
       "       [0.5370724 ],\n",
       "       [0.66522323],\n",
       "       [0.45288327],\n",
       "       [0.69639355],\n",
       "       [0.36424551],\n",
       "       [0.23423655],\n",
       "       [0.35095374],\n",
       "       [0.50275897],\n",
       "       [0.4334563 ],\n",
       "       [0.46978095],\n",
       "       [0.60809811],\n",
       "       [0.56285193],\n",
       "       [0.29351056],\n",
       "       [0.767124  ],\n",
       "       [0.34594157],\n",
       "       [0.13167762],\n",
       "       [0.64358519],\n",
       "       [0.26984474],\n",
       "       [0.30422114],\n",
       "       [0.67624899],\n",
       "       [0.7653449 ],\n",
       "       [0.70741128],\n",
       "       [0.48433873],\n",
       "       [0.34863472],\n",
       "       [0.54202722],\n",
       "       [0.58183811],\n",
       "       [0.44664991],\n",
       "       [0.3847854 ],\n",
       "       [0.33489653],\n",
       "       [0.70052267],\n",
       "       [0.24111841],\n",
       "       [0.36271363],\n",
       "       [0.53327083],\n",
       "       [0.47014866],\n",
       "       [0.37935686],\n",
       "       [0.2493993 ],\n",
       "       [0.29136841],\n",
       "       [0.56062303],\n",
       "       [0.62442568],\n",
       "       [0.29421657],\n",
       "       [0.70712807],\n",
       "       [0.48765854],\n",
       "       [0.34723827],\n",
       "       [0.35147566],\n",
       "       [0.19292318],\n",
       "       [0.37243515],\n",
       "       [0.49226927],\n",
       "       [0.70514913],\n",
       "       [0.38040793],\n",
       "       [0.20507681],\n",
       "       [0.3650447 ],\n",
       "       [1.        ],\n",
       "       [0.35719095],\n",
       "       [0.33840429],\n",
       "       [0.25896821],\n",
       "       [0.74583279],\n",
       "       [0.25258562],\n",
       "       [0.16168378],\n",
       "       [0.40432868],\n",
       "       [0.59259448],\n",
       "       [0.35350584],\n",
       "       [0.46972248],\n",
       "       [0.33290908],\n",
       "       [0.49949073],\n",
       "       [0.48864697],\n",
       "       [0.39816681],\n",
       "       [0.13052149],\n",
       "       [0.33914292],\n",
       "       [0.31994245],\n",
       "       [0.42211664],\n",
       "       [0.43528263],\n",
       "       [0.32026694],\n",
       "       [0.52473934],\n",
       "       [0.09967839],\n",
       "       [0.41716263],\n",
       "       [0.57540957],\n",
       "       [0.28672025],\n",
       "       [0.08772637],\n",
       "       [0.49559373],\n",
       "       [0.46957533],\n",
       "       [0.19899879],\n",
       "       [0.41323624],\n",
       "       [0.50517309],\n",
       "       [0.24350313],\n",
       "       [0.43904436],\n",
       "       [0.26982916],\n",
       "       [0.27762716],\n",
       "       [0.4737867 ]])"
      ]
     },
     "execution_count": 9,
     "metadata": {},
     "output_type": "execute_result"
    }
   ],
   "source": [
    "perplexities_normalized"
   ]
  },
  {
   "cell_type": "code",
   "execution_count": null,
   "metadata": {},
   "outputs": [],
   "source": []
  }
 ],
 "metadata": {
  "kernelspec": {
   "display_name": "yz_pytorch",
   "language": "python",
   "name": "python3"
  },
  "language_info": {
   "codemirror_mode": {
    "name": "ipython",
    "version": 3
   },
   "file_extension": ".py",
   "mimetype": "text/x-python",
   "name": "python",
   "nbconvert_exporter": "python",
   "pygments_lexer": "ipython3",
   "version": "3.8.19"
  }
 },
 "nbformat": 4,
 "nbformat_minor": 2
}
